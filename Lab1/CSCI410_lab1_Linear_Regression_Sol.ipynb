{
  "nbformat": 4,
  "nbformat_minor": 0,
  "metadata": {
    "colab": {
      "name": "CSCI410-lab1-Linear-Regression-Sol.ipynb",
      "provenance": [],
      "collapsed_sections": [],
      "toc_visible": true,
      "authorship_tag": "ABX9TyMJsgcgtYsrKghkXr9A104h",
      "include_colab_link": true
    },
    "kernelspec": {
      "name": "python3",
      "display_name": "Python 3"
    },
    "language_info": {
      "name": "python"
    }
  },
  "cells": [
    {
      "cell_type": "markdown",
      "metadata": {
        "id": "view-in-github",
        "colab_type": "text"
      },
      "source": [
        "<a href=\"https://colab.research.google.com/github/akomaty/CSCI410-lab/blob/master/Lab1/CSCI410_lab1_Linear_Regression_Sol.ipynb\" target=\"_parent\"><img src=\"https://colab.research.google.com/assets/colab-badge.svg\" alt=\"Open In Colab\"/></a>"
      ]
    },
    {
      "cell_type": "markdown",
      "metadata": {
        "id": "53WwFzFHspPH"
      },
      "source": [
        "<table align=\"center\">\n",
        "  <td align=\"center\"><a target=\"_blank\" href=\"https://edu.epfl.ch/coursebook/en/fundamentals-in-statistical-pattern-recognition-EE-612\">\n",
        "        <img src=\"https://www.epfl.ch/about/overview/wp-content/uploads/2020/07/logo-epfl-1024x576.png\" style=\"padding-bottom:5px;\" width=\"100\" height=\"56\"/>\n",
        "      Visit the EPFL course page</a></td>\n",
        "  <td align=\"center\"><a target=\"_blank\" href=\"https://www.usal.edu.lb/\">\n",
        "        <img src=\"https://encrypted-tbn0.gstatic.com/images?q=tbn:ANd9GcTxzelk0TseYtdpMaTooDotsxARzYBB_ukJU9KAccb1tST55RDdd_4CLETiNG_qk3fDSRM&usqp=CAU\" style=\"padding-bottom:5px;\" width=\"75\" height=\"75\"/>\n",
        "      Visit the USAL page</a></td>\n",
        " \n",
        "  <td align=\"center\"><a target=\"_blank\" href=\"https://github.com/akomaty/CSCI410-lab/blob/master/Lab1/CSCI410_lab1_Linear_Regression.ipynb\">\n",
        "        <img src=\"https://i.ibb.co/xfJbPmL/github.png\"  height=\"70px\" style=\"padding-bottom:5px;\"  />View Source on GitHub</a></td>\n",
        "</table>\n",
        "\n",
        "# Copyright Information"
      ]
    },
    {
      "cell_type": "code",
      "metadata": {
        "id": "YX_pUlGGsys9",
        "cellView": "form"
      },
      "source": [
        "#@title\n",
        "# Copyright 2021 - All Rights Reserved.\n",
        "# Idiap Research Institute - Ecole Polytechnique Fédérale de Lausanne EPFL\n",
        "# Sébastien Marcel and André Anjos.\n",
        "# CSCI410-University of Sciences and Arts in Lebanon - USAL.\n",
        "# Ali Komaty.\n",
        "# © FSPR: Fundamentals in Statistical Pattern Recognition\n",
        "# https://www.idiap.ch/~marcel/professional/EPFL_FSPR_2019.html\n",
        "# © USAL CSCI410: Introduction to Machine Learning"
      ],
      "execution_count": null,
      "outputs": []
    },
    {
      "cell_type": "markdown",
      "metadata": {
        "id": "yw8WJ6xcrukw"
      },
      "source": [
        "# Lab 1: Univariate linear regression using an unvectorized form and gradient descent.\n",
        "In this lab, you are going to implement the Univariate linear regression from scratch using an (unvectorized) form and gradient descent. Walk through the lab and read the explanation carefully. You will encounter ***TODO*** blocks, follow the instructions to fill them correctly.\n"
      ]
    },
    {
      "cell_type": "markdown",
      "metadata": {
        "id": "e7hAlz1zLCiB"
      },
      "source": [
        "## Getting started: Loading the database"
      ]
    },
    {
      "cell_type": "markdown",
      "metadata": {
        "id": "XN6twBIXlN3h"
      },
      "source": [
        "First we need to import the modules that we are going to use during this lab:"
      ]
    },
    {
      "cell_type": "code",
      "metadata": {
        "id": "H6quYGB8qO-_"
      },
      "source": [
        "import os\n",
        "import sys\n",
        "import argparse\n",
        "import numpy as np\n",
        "import matplotlib.pyplot as plt\n",
        "from sklearn import datasets"
      ],
      "execution_count": null,
      "outputs": []
    },
    {
      "cell_type": "markdown",
      "metadata": {
        "id": "QDBS8oCilemg"
      },
      "source": [
        "Now we need to load our dataset from sklearn as follows:"
      ]
    },
    {
      "cell_type": "code",
      "metadata": {
        "id": "LwtY_zPiib8H"
      },
      "source": [
        "# load the diabetes dataset\n",
        "X, y = datasets.load_diabetes(return_X_y = True)\n",
        "#X = datasets.load_diabetes(return_X_y = False)"
      ],
      "execution_count": null,
      "outputs": []
    },
    {
      "cell_type": "code",
      "metadata": {
        "colab": {
          "base_uri": "https://localhost:8080/"
        },
        "id": "9aqN0zQ_xCQi",
        "outputId": "b13f6a31-e719-40b9-a50d-88c42992f326"
      },
      "source": [
        "print(\"The number of samples in the dataset is {}\".format(len(X)))"
      ],
      "execution_count": null,
      "outputs": [
        {
          "output_type": "stream",
          "name": "stdout",
          "text": [
            "The number of samples in the dataset is 442\n"
          ]
        }
      ]
    },
    {
      "cell_type": "code",
      "metadata": {
        "colab": {
          "base_uri": "https://localhost:8080/"
        },
        "id": "rWYIfNfyw682",
        "outputId": "1e26e41b-5953-4c6e-d4ff-78b64b6594ca"
      },
      "source": [
        "print(\"The number of features is {}\".format(len(X[0])))"
      ],
      "execution_count": null,
      "outputs": [
        {
          "output_type": "stream",
          "name": "stdout",
          "text": [
            "The number of features is 10\n"
          ]
        }
      ]
    },
    {
      "cell_type": "markdown",
      "metadata": {
        "id": "OozlV1PHLKnW"
      },
      "source": [
        "### Understanding the database\n",
        "This dataset consists of the following:\n",
        "First 10 columns (**X**) are numeric predictive values:\n",
        "\n",
        "* age age in years\n",
        "* sex\n",
        "* bmi body mass index\n",
        "* bp average blood pressure\n",
        "* s1 tc, total serum cholesterol\n",
        "* s2 ldl, low-density lipoproteins\n",
        "* s3 hdl, high-density lipoproteins\n",
        "* s4 tch, total cholesterol / HDL\n",
        "* s5 ltg, possibly log of serum triglycerides level\n",
        "* s6 glu, blood sugar level\n",
        "\n",
        "Column 11 (**y**) is a quantitative measure of disease progression one year after baseline"
      ]
    },
    {
      "cell_type": "markdown",
      "metadata": {
        "id": "mJjEaoq931J3"
      },
      "source": [
        "Let's plot the Disease progression versus the BMI.\n"
      ]
    },
    {
      "cell_type": "code",
      "metadata": {
        "colab": {
          "base_uri": "https://localhost:8080/",
          "height": 296
        },
        "id": "gFaqqH_syic0",
        "outputId": "7b28a1c7-699d-4efc-cd8b-75e2fdc2f5e2"
      },
      "source": [
        "plt.scatter(X[:,np.newaxis, 2], y, marker='+')\n",
        "plt.xlabel(\"Body Mass Index\")\n",
        "plt.ylabel(\"Disease Progression\")"
      ],
      "execution_count": null,
      "outputs": [
        {
          "output_type": "execute_result",
          "data": {
            "text/plain": [
              "Text(0, 0.5, 'Disease Progression')"
            ]
          },
          "metadata": {},
          "execution_count": 234
        },
        {
          "output_type": "display_data",
          "data": {
            "image/png": "[encoded data removed]",
            "text/plain": [
              "<Figure size 432x288 with 1 Axes>"
            ]
          },
          "metadata": {
            "needs_background": "light"
          }
        }
      ]
    },
    {
      "cell_type": "markdown",
      "metadata": {
        "id": "7btgmXE7vP8r"
      },
      "source": [
        "### Splitting the database into training and testing sets\n",
        "\n",
        "Let's now split the data into training/testing sets. We want to take 50 samples for the test test, and the rest will go to the training set.\n",
        "Hint: You can use ``X[a:b]`` to split the data"
      ]
    },
    {
      "cell_type": "code",
      "metadata": {
        "colab": {
          "base_uri": "https://localhost:8080/"
        },
        "id": "lLM9Ra1kuwkb",
        "outputId": "dd78dc78-f15b-41d9-de62-1f0c0b9a45ff"
      },
      "source": [
        "# Split the data: X\n",
        "X_train = X[:-50]\n",
        "X_test = X[-50:]\n",
        "\n",
        "# Split the target: y\n",
        "y_train = y[:-50]\n",
        "y_test = y[-50:]\n",
        "\n",
        "print(\"The size of the training data is {}\".format(len(X_train)))\n",
        "print(\"The size of the test data is {}\".format(len(X_test)))"
      ],
      "execution_count": null,
      "outputs": [
        {
          "output_type": "stream",
          "name": "stdout",
          "text": [
            "The size of the training data is 392\n",
            "The size of the test data is 50\n"
          ]
        }
      ]
    },
    {
      "cell_type": "markdown",
      "metadata": {
        "id": "N20gzZmmNTro"
      },
      "source": [
        "Let's choose the BMI feature, we will only work on this feature for now.\n",
        "Hint: You can use ``X[:, a]`` to select the wanted feature"
      ]
    },
    {
      "cell_type": "code",
      "metadata": {
        "id": "1wJRXx2zNUTU"
      },
      "source": [
        "X_train = X_train[:, 2]\n",
        "X_test = X_test[:, 2]"
      ],
      "execution_count": null,
      "outputs": []
    },
    {
      "cell_type": "markdown",
      "metadata": {
        "id": "usahbmvd5ob1"
      },
      "source": [
        "## Start implementing the functions\n",
        "In this section, we are going to implement the functions to build our linear regression model from scratch."
      ]
    },
    {
      "cell_type": "markdown",
      "metadata": {
        "id": "9LZ7qqI-55ZV"
      },
      "source": [
        "### The hypothesis function $h_\\theta(x)$\n",
        "We are going to implement a function that calculates the hypothesis $h$ given the set of parameters $\\theta4 and a single $x$.\n",
        "\n",
        "The univariate linear hypothesis :$h_\\theta(x)$ is defined as:\n",
        "\n",
        "$h_\\theta(x) = \\theta_0 + \\theta_1 x$\n",
        "  \n",
        "The parameters are:\n",
        "\n",
        "* **X**: A vector (, list or tuple) containing all observations for the input variable\n",
        "* **theta**: A vector (,list or tuple) with two positions with the values of $\\theta_0$ and $\\theta_1$, in this order.\n",
        "\n",
        "The function returns the estimated value for y (1 float number).\n",
        "\n",
        "  "
      ]
    },
    {
      "cell_type": "markdown",
      "metadata": {
        "id": "fAN7OSPFGm_w"
      },
      "source": [
        "**Hint**:  Use ``theta[0]`` to access $\\theta_0$ "
      ]
    },
    {
      "cell_type": "code",
      "metadata": {
        "id": "A_B7v2Zk5lVt"
      },
      "source": [
        "def h(x, theta):\n",
        "  return theta[0] + x*theta[1]"
      ],
      "execution_count": null,
      "outputs": []
    },
    {
      "cell_type": "markdown",
      "metadata": {
        "id": "vWOXGTLQ7PhO"
      },
      "source": [
        "### The cost $J$\n",
        "Now we are going to implement the (unvectorized) cost $J$ for the univariate linear regression model given X, y and $\\theta$.\n",
        "  The cost for the linear regression model is defined as: \n",
        "  \n",
        "  $J(\\theta_0, \\theta_1) = \\frac{1}{2n}\\sum_{i=0}^{n-1} (h_\\theta(x^{(i)} - y^{(i)})^2$\n",
        "\n",
        "The parameters are: \n",
        "\n",
        "\n",
        "*   **X**: A vector (, list or tuple) containing all observations for the input variable\n",
        "*   **y**: A vector (, list or tuple) containing all expected values for the output variable\n",
        "*  **theta**: A vector (,list or tuple) with two positions with the values of $\\theta_0$ and $\\theta_1$, in this order.\n",
        "\n",
        "The function returns the cost for the current input set given the (linear) model.\n",
        "\n",
        "\n",
        "\n"
      ]
    },
    {
      "cell_type": "code",
      "metadata": {
        "id": "Pi33Webj7P5s"
      },
      "source": [
        "def J(X, y, theta):\n",
        "  J_ = 0.\n",
        "  n = len(X)\n",
        "  for i in range(n):\n",
        "    e_ = h(X[i], theta) - y[i]\n",
        "    J_ += e_**2\n",
        "  J_ /= (2*n)\n",
        "  return J_\n"
      ],
      "execution_count": null,
      "outputs": []
    },
    {
      "cell_type": "markdown",
      "metadata": {
        "id": "rCZChETn8eOz"
      },
      "source": [
        "### The first partial derivative of the cost function $\\frac{\\partial}{\\partial \\theta_0} J(\\theta_0, \\theta_1)$\n",
        "\n",
        "We will now compute the partial derivative of the cost function with respect to $\\theta_0$.\n",
        "\n",
        "As derived in the course, this partial derivative is:\n",
        "\n",
        "$\\frac{\\partial}{\\partial \\theta_0}J(\\theta_0, \\theta_1) = \\frac{1}{n}\\sum_{i=0}^{n-1} (h_\\theta(x^{(i)} - y^{(i)})$\n",
        "  \n",
        "The function parameters are:\n",
        "\n",
        "\n",
        "*   **X**: A vector (, list or tuple) containing all observations for the input variable.\n",
        "*   **y**: A vector (, list or tuple) containing all expected values for the output variable.\n",
        "* theta A vector (,list or tuple) with two positions with the values of $\\theta_0$ and $\\theta_1$, in this order.\n",
        "\n",
        "  The function returns the cost for the current input set given the (linear) model."
      ]
    },
    {
      "cell_type": "code",
      "metadata": {
        "id": "wNl4iZ5D8eFk"
      },
      "source": [
        "def dJ0(X, y, theta):\n",
        "  dJ0_ = 0\n",
        "  n = len(X)\n",
        "  for i in range(n):\n",
        "    dJ0_ += h(X[i], theta) - y[i]\n",
        "  dJ0_ /= n\n",
        "  return dJ0_"
      ],
      "execution_count": null,
      "outputs": []
    },
    {
      "cell_type": "markdown",
      "metadata": {
        "id": "mGeD4Ec18emD"
      },
      "source": [
        "### The second partial derivative of the cost function $\\frac{\\partial}{\\partial \\theta_0} J(\\theta_0, \\theta_1)$\n",
        "\n",
        "We will now compute the partial derivative of the cost function with respect to $\\theta_1$.\n",
        "\n",
        "As derived in the course, this partial derivative is:\n",
        "\n",
        "$\\frac{\\partial}{\\partial \\theta_1}J(\\theta_0, \\theta_1) = \\frac{1}{n}\\sum_{i=0}^{n-1} (h_\\theta(x^{(i)} - y^{(i)})x^{(i)})$\n",
        "  \n",
        "The function parameters are:\n",
        "\n",
        "\n",
        "*   **X**: A vector (, list or tuple) containing all observations for the input variable.\n",
        "*   **y**: A vector (, list or tuple) containing all expected values for the output variable.\n",
        "* theta A vector (,list or tuple) with two positions with the values of $\\theta_0$ and $\\theta_1$, in this order.\n",
        "\n",
        "  The function returns the cost for the current input set given the (linear) model."
      ]
    },
    {
      "cell_type": "code",
      "metadata": {
        "id": "picQQir_8ehC"
      },
      "source": [
        "def dJ1(X, y, theta):\n",
        "  dJ1_ = 0\n",
        "  n = len(X)\n",
        "  for i in range(n):\n",
        "    dJ1_ += (h(X[i], theta) - y[i]) * X[i]\n",
        "  dJ1_ /= n\n",
        "  return dJ1_"
      ],
      "execution_count": null,
      "outputs": []
    },
    {
      "cell_type": "markdown",
      "metadata": {
        "id": "HunOSRuNFhKh"
      },
      "source": [
        "## Running the algorithm\n",
        "In this section, we are going to initialize our parameters, then run the experiment."
      ]
    },
    {
      "cell_type": "markdown",
      "metadata": {
        "id": "62jGncpJFrmg"
      },
      "source": [
        "### Initializing the paramaters\n",
        "\n",
        "Initialise the parameters using the zeros matrix from numpy.\n",
        "Note that initialising the parameters have a huge impact of the performance of your algorithm. For example, a small learning rate may not help the system learn at all, while a big learning rate may result in the divergence of the algorithm.\n",
        "\n",
        "The number of itrations is also important, we may increase the number of iterations to get better results, but we have to pay attention not to overfit our model."
      ]
    },
    {
      "cell_type": "code",
      "metadata": {
        "id": "2NKWirupEXlQ"
      },
      "source": [
        "# initial parameters\n",
        "theta = np.zeros((2,), dtype='float64')\n",
        "# Define the maximum number of iterations\n",
        "max_iter = 2000\n",
        "# Define the learning rate\n",
        "alpha = 1.2"
      ],
      "execution_count": null,
      "outputs": []
    },
    {
      "cell_type": "markdown",
      "metadata": {
        "id": "tg0Seyt3JKkd"
      },
      "source": [
        "Let's do some testing for the hypothesis:"
      ]
    },
    {
      "cell_type": "code",
      "metadata": {
        "colab": {
          "base_uri": "https://localhost:8080/"
        },
        "id": "xnIslCJdJKZe",
        "outputId": "c69ae8a7-b3fc-4b24-9022-68e0069b02b2"
      },
      "source": [
        "\n",
        "print(\"Your h() function should return 1.0 =>\", h(1.0, [0.5, 0.5]))\n",
        "print(\"Your h() function should return 1.5 =>\", h(2.0, [0.5, 0.5]))\n",
        "print(\"Your h() function should return 2.0 =>\", h(3.0, [0.5, 0.5]))\n",
        "\n",
        "Jtrain = np.ndarray(max_iter+1)\n",
        "Jtest = np.ndarray(max_iter+1)\n",
        "  \n",
        "Jtrain[0]= J(X_train, y_train, theta)\n",
        "Jtest[0] = J(X_test, y_test, theta)\n",
        "print('%03d/%03d: J_train = %.8e | J_devel = %8e' % (0, max_iter, Jtrain[0], Jtest[0]))"
      ],
      "execution_count": null,
      "outputs": [
        {
          "output_type": "stream",
          "name": "stdout",
          "text": [
            "Your h() function should return 1.0 => 1.0\n",
            "Your h() function should return 1.5 => 1.5\n",
            "Your h() function should return 2.0 => 2.0\n",
            "000/5000: J_train = 1.45238431e+04 | J_devel = 1.464228e+04\n"
          ]
        }
      ]
    },
    {
      "cell_type": "code",
      "metadata": {
        "id": "IEkMtDZ1F6s-"
      },
      "source": [
        "for t in range(max_iter): \n",
        "  # compute the partial derivatives (gradient)\n",
        "  dJ = [dJ0(X_train, y_train, theta), dJ1(X_train, y_train, theta)]\n",
        "  # update the parameters\n",
        "  theta -= np.array(dJ) * alpha\n",
        "\n",
        "  # compute the cost given the new parameters\n",
        "  Jtrain[t+1] = J(X_train, y_train, theta)\n",
        "  Jtest[t+1] = J(X_test, y_test, theta)\n",
        "  print('%03d/%03d: J_train = %.8e | J_test = %8e' % (t+1, max_iter, Jtrain[t+1], Jtest[t+1]))\n",
        "\n",
        "  # check for convergence: end-of-accuracy criteria on the train set\n",
        "  e_ = abs(Jtrain[t] - Jtrain[t+1])\n",
        "  if(e_ < 1e-08):\n",
        "    print(\"Convergence detected (delta J = %.5e). Stopping at iteration %d...\" % (abs(Jtrain[t] - Jtrain[t+1]), t+1))\n",
        "    break\n",
        "\n",
        "print('Result (after %d iterations):' % (t+1))\n",
        "#theta[0] = theta[0] - (theta[1]*X_mean)/X_std\n",
        "#theta[1] /= X_std\n",
        "print('Final parameters (theta): %s' % theta)"
      ],
      "execution_count": null,
      "outputs": []
    },
    {
      "cell_type": "code",
      "metadata": {
        "colab": {
          "base_uri": "https://localhost:8080/",
          "height": 279
        },
        "id": "u49i_YbhLrmm",
        "outputId": "380296eb-00dc-45a4-e966-31ae0eaf1ee1"
      },
      "source": [
        "plt.plot(X_train, y_train, 'ro', label=\"train\")\n",
        "plt.plot(X_test, y_test, 'bx', label=\"test\")\n",
        "\n",
        "[x_min, x_max, y_min, y_max] = plt.axis()\n",
        "x = np.arange(x_min, x_max, (x_max-x_min)/200)\n",
        "y = [h(k, theta) for k in x]\n",
        "plt.plot(x, y, \"k-\", label=r\"y = $\\theta x$\")\n",
        "plt.xlabel(\"Body Mass Index\")\n",
        "plt.ylabel(\"Disease Progression\")\n",
        "leg = plt.legend(loc='best')\n",
        "leg.get_frame().set_alpha(0.5)\n",
        "plt.grid()\n",
        "plt.show()"
      ],
      "execution_count": null,
      "outputs": [
        {
          "output_type": "display_data",
          "data": {
            "image/png": "[encoded data removed]",
            "text/plain": [
              "<Figure size 432x288 with 1 Axes>"
            ]
          },
          "metadata": {
            "needs_background": "light"
          }
        }
      ]
    }
  ]
}